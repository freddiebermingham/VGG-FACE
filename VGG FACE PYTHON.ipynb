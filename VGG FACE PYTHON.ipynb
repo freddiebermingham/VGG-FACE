{
 "cells": [
  {
   "cell_type": "code",
   "execution_count": null,
   "metadata": {},
   "outputs": [],
   "source": [
    "import asyncio\n",
    "from pathlib import Path\n",
    "\n",
    "import aiofiles\n",
    "import aiohttp\n",
    "from aiohttp import ClientConnectorError\n",
    "from aiohttp.client_exceptions import ClientPayloadError, ServerDisconnectedError\n",
    "from tqdm.asyncio import tqdm_asyncio"
   ]
  },
  {
   "cell_type": "code",
   "execution_count": 2,
   "metadata": {},
   "outputs": [],
   "source": [
    "loop = asyncio.get_event_loop()"
   ]
  },
  {
   "cell_type": "code",
   "execution_count": 3,
   "metadata": {},
   "outputs": [],
   "source": [
    "class FaceResizer:\n",
    "    def __init__(self, url_file, needed_identitites=50):\n",
    "        self.url_file = url_file\n",
    "        self.session = None\n",
    "        self.needed_identitites = needed_identitites\n",
    "        self.semaphore = asyncio.Semaphore()\n",
    "        loop.run_until_complete(self.create_session())\n",
    "\n",
    "    async def create_session(self):\n",
    "        self.session = aiohttp.ClientSession()\n",
    "\n",
    "    async def get_sorted_persons(self):\n",
    "        person_dict = dict()\n",
    "        async with aiofiles.open(self.url_file, encoding=\"utf-8\") as f:\n",
    "            async for line in f:\n",
    "                person, imagenum, url, face_coords, md5sum = line.split('\t')\n",
    "                if person in person_dict:\n",
    "                    person_dict[person].append((person, imagenum, url, face_coords))\n",
    "                else:\n",
    "                    person_dict[person] = [(person, imagenum, url, face_coords)]\n",
    "\n",
    "        sorted_names = sorted(person_dict, key=lambda x: len(person_dict[x]), reverse=True)\n",
    "        sorted_persons = []\n",
    "        ct = 0\n",
    "        for person in sorted_names:\n",
    "            if ct == self.needed_identitites:\n",
    "                break\n",
    "            sorted_persons.append(person_dict[person])\n",
    "            ct += 1\n",
    "        return sorted_persons\n",
    "\n",
    "    async def main(self, download_imgs=False):\n",
    "        persons = await self.get_sorted_persons()\n",
    "        if download_imgs:\n",
    "            download_tasks = []\n",
    "            for person in persons:\n",
    "                for image in person:\n",
    "                    name, number, url, face_coords = image\n",
    "                    path = Path(f'output\\\\raw\\\\{person[0][0]}\\\\')\n",
    "                    path.mkdir(parents=True, exist_ok=True)\n",
    "                    download_tasks.append(self.download_image(url, f'{path}\\\\{number}.jpg'))\n",
    "\n",
    "            for coro in tqdm_asyncio.as_completed(download_tasks, loop=loop):\n",
    "                await coro\n",
    "        return persons\n",
    "\n",
    "    async def download_image(self, url, path):\n",
    "        try:\n",
    "            image = await self.session.get(url)\n",
    "            if image.status != 200:\n",
    "                tqdm_asyncio.write(f\"Download failed: {image.status}\")\n",
    "                return\n",
    "            async with aiofiles.open(path, mode='wb') as f:\n",
    "                await f.write(await image.read())\n",
    "        except (ClientConnectorError, ClientPayloadError, ServerDisconnectedError):\n",
    "            pass"
   ]
  },
  {
   "cell_type": "code",
   "execution_count": null,
   "metadata": {},
   "outputs": [],
   "source": []
  }
 ],
 "metadata": {
  "kernelspec": {
   "display_name": "Python 3",
   "language": "python",
   "name": "python3"
  },
  "language_info": {
   "codemirror_mode": {
    "name": "ipython",
    "version": 3
   },
   "file_extension": ".py",
   "mimetype": "text/x-python",
   "name": "python",
   "nbconvert_exporter": "python",
   "pygments_lexer": "ipython3",
   "version": "3.8.3"
  }
 },
 "nbformat": 4,
 "nbformat_minor": 4
}
